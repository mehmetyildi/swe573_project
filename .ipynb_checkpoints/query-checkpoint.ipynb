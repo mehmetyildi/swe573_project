{
 "cells": [
  {
   "cell_type": "code",
   "execution_count": 1,
   "metadata": {},
   "outputs": [],
   "source": [
    "import tweepy\n",
    "from datetime import date, timedelta\n",
    "import datetime\n",
    "import time\n",
    "\n",
    "\n",
    "consumer_key= \"ygMdGjSPLloumYVgVlE5eEv0E\"\n",
    "consumer_secret= \"w0s3mDOM9pS4HNF9ZigZuIUIfiZCQPUyWV6nPE5PXU9bXrEeEY\"\n",
    "access_token=\"2895970625-xf4G18XIjZ3CbC471qfirH1zpRgVVcXx4GhspR0\"\n",
    "access_token_secret=\"uRgmoD818TbpK66FipL0g7SQP4rfarC8OObkWIbhcFma2\"\n"
   ]
  },
  {
   "cell_type": "code",
   "execution_count": 2,
   "metadata": {},
   "outputs": [],
   "source": [
    "auth = tweepy.OAuthHandler(consumer_key, consumer_secret)\n",
    "auth.set_access_token(access_token, access_token_secret)\n",
    "api = tweepy.API(auth)"
   ]
  },
  {
   "cell_type": "code",
   "execution_count": 3,
   "metadata": {},
   "outputs": [],
   "source": [
    "def resident(user,town):\n",
    "    return api.show_friendship(source_screen_name=user,target_screen_name=town)[0].following\n"
   ]
  },
  {
   "cell_type": "code",
   "execution_count": 9,
   "metadata": {},
   "outputs": [
    {
     "data": {
      "text/plain": [
       "['gitar', 'davul', 'piyano OR piano', 'mızrap', 'keman', 'klarnet']"
      ]
     },
     "execution_count": 9,
     "metadata": {},
     "output_type": "execute_result"
    }
   ],
   "source": [
    "keywords=[]\n",
    "keyword1=\"gitar\"\n",
    "keyword2=\"davul\"\n",
    "keyword3=\"piyano OR piano\"\n",
    "keyword4=\"mızrap\"\n",
    "keyword5=\"keman\"\n",
    "keyword6=\"klarnet\"\n",
    "keywords.append(keyword1)\n",
    "keywords.append(keyword2)\n",
    "keywords.append(keyword3)\n",
    "keywords.append(keyword4)\n",
    "keywords.append(keyword5)\n",
    "keywords.append(keyword6)\n",
    "keywords\n"
   ]
  },
  {
   "cell_type": "code",
   "execution_count": 5,
   "metadata": {},
   "outputs": [],
   "source": [
    "town1=\"@kadikoybelediye\"\n",
    "town2=\"@MaltepeBelTr\"\n",
    "town3=\"@uskudarbld\""
   ]
  },
  {
   "cell_type": "code",
   "execution_count": 12,
   "metadata": {},
   "outputs": [
    {
     "name": "stdout",
     "output_type": "stream",
     "text": [
      "182\n",
      "366\n",
      "554\n",
      "556\n",
      "656\n",
      "691\n",
      "691\n"
     ]
    }
   ],
   "source": [
    "max_tweets=10000\n",
    "filtered_tweets=[]\n",
    "yesterday = date.today() - timedelta(1)\n",
    "for keyword in keywords:\n",
    "    query=keyword+\" -filter:retweets\"\n",
    "    searched_tweets = [status for status in tweepy.Cursor(api.search, tweet_mode=\"extended\", q=query,result_type=\"recent\",include_entities=True,since = yesterday,lang='tr').items(max_tweets)]\n",
    "    for tweets in searched_tweets:\n",
    "        filtered_tweets.append(tweets)\n",
    "    print(len(filtered_tweets))\n",
    "    time.sleep(60*15)\n",
    "print(len(filtered_tweets))"
   ]
  },
  {
   "cell_type": "code",
   "execution_count": 18,
   "metadata": {},
   "outputs": [
    {
     "name": "stdout",
     "output_type": "stream",
     "text": [
      "kazegami1\n",
      "@kadikoybelediye\n",
      "@asi_freudyen_54 Bir dahakine toplanıp böyle gidelim ama gitar yeri benim. https://t.co/wdl89In3An\n",
      "2018-11-23 17:24:59\n",
      "86\n",
      "Reached Twitter rate limit\n"
     ]
    }
   ],
   "source": [
    "i=0\n",
    "\n",
    "try:    \n",
    "    for tweet in filtered_tweets:\n",
    "        username=tweet.user.screen_name\n",
    "        i=i+1\n",
    "        if i%59==0:\n",
    "            time.sleep(60*15)\n",
    "        \n",
    "        if(resident(username,town1)):\n",
    "            print(i)\n",
    "            print(username)\n",
    "            print(town1)\n",
    "            print(tweet.full_text)\n",
    "            print(tweet.created_at)\n",
    "            continue\n",
    "        if (resident(username,town2)):\n",
    "            print(i)\n",
    "            print(username)\n",
    "            print(town2)\n",
    "            print(tweet.full_text)\n",
    "            print(tweet.created_at)\n",
    "            continue\n",
    "        if (resident(username,town3)):\n",
    "            print(i)\n",
    "            print(username)\n",
    "            print(town3)\n",
    "            print(tweet.full_text)\n",
    "            print(tweet.created_at)\n",
    "            continue \n",
    "except tweepy.error.TweepError:\n",
    "    print (i)\n",
    "    print(\"Reached Twitter rate limit\")\n",
    "    "
   ]
  },
  {
   "cell_type": "code",
   "execution_count": null,
   "metadata": {},
   "outputs": [],
   "source": []
  }
 ],
 "metadata": {
  "kernelspec": {
   "display_name": "Python 3",
   "language": "python",
   "name": "python3"
  },
  "language_info": {
   "codemirror_mode": {
    "name": "ipython",
    "version": 3
   },
   "file_extension": ".py",
   "mimetype": "text/x-python",
   "name": "python",
   "nbconvert_exporter": "python",
   "pygments_lexer": "ipython3",
   "version": "3.7.0"
  }
 },
 "nbformat": 4,
 "nbformat_minor": 2
}
